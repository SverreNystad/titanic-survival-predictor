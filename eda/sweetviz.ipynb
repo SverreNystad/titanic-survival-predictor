{
 "cells": [
  {
   "cell_type": "markdown",
   "metadata": {},
   "source": [
    "# Sweetviz EDA tool\n",
    "Sweetviz is a Python library that generates beautiful, high-density visualizations to kickstart exploratory data analysis (EDA) with a single line of code. It's particularly useful for comparing datasets (e.g., training vs. testing) and for analyzing target values within your data. \n",
    "\n",
    "## Case notebook does not run\n",
    "If the notebook can not run due to some import version issues, create an virtual environment use that as the kernel for this notebook. \n",
    "```bash\n",
    "python -m venv venv_sweetviz\n",
    "```\n",
    "Then use that for this notebook. "
   ]
  },
  {
   "cell_type": "code",
   "execution_count": 1,
   "metadata": {},
   "outputs": [
    {
     "name": "stdout",
     "output_type": "stream",
     "text": [
      "Defaulting to user installation because normal site-packages is not writeable\n",
      "Collecting sweetviz\n",
      "  Downloading sweetviz-2.3.1-py3-none-any.whl.metadata (24 kB)\n",
      "Requirement already satisfied: pandas!=1.0.0,!=1.0.1,!=1.0.2,>=0.25.3 in /home/sverrnys/.local/lib/python3.12/site-packages (from sweetviz) (2.2.2)\n",
      "Requirement already satisfied: numpy>=1.16.0 in /home/sverrnys/.local/lib/python3.12/site-packages (from sweetviz) (1.26.4)\n",
      "Requirement already satisfied: matplotlib>=3.1.3 in /home/sverrnys/.local/lib/python3.12/site-packages (from sweetviz) (3.8.4)\n",
      "Requirement already satisfied: tqdm>=4.43.0 in /home/sverrnys/.local/lib/python3.12/site-packages (from sweetviz) (4.66.4)\n",
      "Requirement already satisfied: scipy>=1.3.2 in /home/sverrnys/.local/lib/python3.12/site-packages (from sweetviz) (1.13.0)\n",
      "Requirement already satisfied: jinja2>=2.11.1 in /home/sverrnys/.local/lib/python3.12/site-packages (from sweetviz) (3.1.4)\n",
      "Collecting importlib-resources>=1.2.0 (from sweetviz)\n",
      "  Downloading importlib_resources-6.4.0-py3-none-any.whl.metadata (3.9 kB)\n",
      "Requirement already satisfied: MarkupSafe>=2.0 in /home/sverrnys/.local/lib/python3.12/site-packages (from jinja2>=2.11.1->sweetviz) (2.1.5)\n",
      "Requirement already satisfied: contourpy>=1.0.1 in /home/sverrnys/.local/lib/python3.12/site-packages (from matplotlib>=3.1.3->sweetviz) (1.2.1)\n",
      "Requirement already satisfied: cycler>=0.10 in /home/sverrnys/.local/lib/python3.12/site-packages (from matplotlib>=3.1.3->sweetviz) (0.12.1)\n",
      "Requirement already satisfied: fonttools>=4.22.0 in /home/sverrnys/.local/lib/python3.12/site-packages (from matplotlib>=3.1.3->sweetviz) (4.51.0)\n",
      "Requirement already satisfied: kiwisolver>=1.3.1 in /home/sverrnys/.local/lib/python3.12/site-packages (from matplotlib>=3.1.3->sweetviz) (1.4.5)\n",
      "Requirement already satisfied: packaging>=20.0 in /usr/lib/python3.12/site-packages (from matplotlib>=3.1.3->sweetviz) (23.2)\n",
      "Requirement already satisfied: pillow>=8 in /home/sverrnys/.local/lib/python3.12/site-packages (from matplotlib>=3.1.3->sweetviz) (10.3.0)\n",
      "Requirement already satisfied: pyparsing>=2.3.1 in /home/sverrnys/.local/lib/python3.12/site-packages (from matplotlib>=3.1.3->sweetviz) (3.1.2)\n",
      "Requirement already satisfied: python-dateutil>=2.7 in /usr/lib/python3.12/site-packages (from matplotlib>=3.1.3->sweetviz) (2.8.2)\n",
      "Requirement already satisfied: pytz>=2020.1 in /home/sverrnys/.local/lib/python3.12/site-packages (from pandas!=1.0.0,!=1.0.1,!=1.0.2,>=0.25.3->sweetviz) (2024.1)\n",
      "Requirement already satisfied: tzdata>=2022.7 in /home/sverrnys/.local/lib/python3.12/site-packages (from pandas!=1.0.0,!=1.0.1,!=1.0.2,>=0.25.3->sweetviz) (2024.1)\n",
      "Requirement already satisfied: six>=1.5 in /usr/lib/python3.12/site-packages (from python-dateutil>=2.7->matplotlib>=3.1.3->sweetviz) (1.16.0)\n",
      "Downloading sweetviz-2.3.1-py3-none-any.whl (15.1 MB)\n",
      "\u001b[2K   \u001b[38;2;114;156;31m━━━━━━━━━━━━━━━━━━━━━━━━━━━━━━━━━━━━━━━━\u001b[0m \u001b[32m15.1/15.1 MB\u001b[0m \u001b[31m11.8 MB/s\u001b[0m eta \u001b[36m0:00:00\u001b[0mm eta \u001b[36m0:00:01\u001b[0m0:01\u001b[0m:01\u001b[0m\n",
      "\u001b[?25hDownloading importlib_resources-6.4.0-py3-none-any.whl (38 kB)\n",
      "Installing collected packages: importlib-resources, sweetviz\n",
      "Successfully installed importlib-resources-6.4.0 sweetviz-2.3.1\n",
      "Note: you may need to restart the kernel to use updated packages.\n"
     ]
    }
   ],
   "source": [
    "%pip install sweetviz"
   ]
  },
  {
   "cell_type": "code",
   "execution_count": 2,
   "metadata": {},
   "outputs": [
    {
     "name": "stderr",
     "output_type": "stream",
     "text": [
      "/home/sverrnys/.local/lib/python3.12/site-packages/tqdm/auto.py:21: TqdmWarning: IProgress not found. Please update jupyter and ipywidgets. See https://ipywidgets.readthedocs.io/en/stable/user_install.html\n",
      "  from .autonotebook import tqdm as notebook_tqdm\n"
     ]
    }
   ],
   "source": [
    "import sys\n",
    "import os\n",
    "import pandas as pd\n",
    "import sweetviz as sv\n",
    "\n",
    "# Get the current working directory\n",
    "current_working_directory = os.getcwd()\n",
    "\n",
    "# Go up one level from the current working directory\n",
    "parent_directory = os.path.join(current_working_directory, '..')\n",
    "\n",
    "# Add the parent directory to sys.path\n",
    "sys.path.append(parent_directory)\n",
    "\n",
    "os.getcwd()\n",
    "\n",
    "from src.config import REPORT_PATH, TARGET_FEATURE\n",
    "from src.data.data_loader import create_data_loader"
   ]
  },
  {
   "cell_type": "markdown",
   "metadata": {},
   "source": [
    "## Load data"
   ]
  },
  {
   "cell_type": "code",
   "execution_count": 3,
   "metadata": {},
   "outputs": [],
   "source": [
    "x, y = create_data_loader().load_raw_data()\n",
    "training_data = pd.concat([x, y], axis=1)"
   ]
  },
  {
   "cell_type": "markdown",
   "metadata": {},
   "source": [
    "## Generate report"
   ]
  },
  {
   "cell_type": "code",
   "execution_count": 4,
   "metadata": {},
   "outputs": [
    {
     "name": "stderr",
     "output_type": "stream",
     "text": [
      "Done! Use 'show' commands to display/save.   |██████████| [100%]   00:00 -> (00:00 left)\n"
     ]
    },
    {
     "name": "stdout",
     "output_type": "stream",
     "text": [
      "Report ../results/reports/sweetviz_Survived.html was generated! NOTEBOOK/COLAB USERS: the web browser MAY not pop up, regardless, the report IS saved in your notebook/colab files.\n"
     ]
    }
   ],
   "source": [
    "report = sv.analyze(training_data, target_feat=TARGET_FEATURE)\n",
    "report.show_html(f\"{REPORT_PATH}sweetviz_{TARGET_FEATURE}.html\")"
   ]
  }
 ],
 "metadata": {
  "kernelspec": {
   "display_name": "Python 3",
   "language": "python",
   "name": "python3"
  },
  "language_info": {
   "codemirror_mode": {
    "name": "ipython",
    "version": 3
   },
   "file_extension": ".py",
   "mimetype": "text/x-python",
   "name": "python",
   "nbconvert_exporter": "python",
   "pygments_lexer": "ipython3",
   "version": "3.12.3"
  }
 },
 "nbformat": 4,
 "nbformat_minor": 2
}
