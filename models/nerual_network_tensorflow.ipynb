{
 "cells": [
  {
   "cell_type": "markdown",
   "metadata": {},
   "source": [
    "# Neural Network for Titanic Dataset"
   ]
  },
  {
   "cell_type": "markdown",
   "metadata": {},
   "source": [
    "## Setup"
   ]
  },
  {
   "cell_type": "code",
   "execution_count": 75,
   "metadata": {},
   "outputs": [
    {
     "data": {
      "text/plain": [
       "'/home/sverrnys/Dokumenter/personal_projects/titanic-survival-predictor/models'"
      ]
     },
     "execution_count": 75,
     "metadata": {},
     "output_type": "execute_result"
    }
   ],
   "source": [
    "import sys\n",
    "import os\n",
    "\n",
    "# Get the current working directory\n",
    "current_working_directory = os.getcwd()\n",
    "\n",
    "# Go up one level from the current working directory\n",
    "parent_directory = os.path.join(current_working_directory, '..')\n",
    "\n",
    "# Add the parent directory to sys.path\n",
    "sys.path.append(parent_directory)\n",
    "\n",
    "os.getcwd()"
   ]
  },
  {
   "cell_type": "code",
   "execution_count": 76,
   "metadata": {},
   "outputs": [
    {
     "name": "stdout",
     "output_type": "stream",
     "text": [
      "Defaulting to user installation because normal site-packages is not writeable\n",
      "Requirement already satisfied: scikit-learn in /home/sverrnys/.local/lib/python3.12/site-packages (1.4.2)\n",
      "Requirement already satisfied: numpy>=1.19.5 in /home/sverrnys/.local/lib/python3.12/site-packages (from scikit-learn) (1.26.4)\n",
      "Requirement already satisfied: scipy>=1.6.0 in /home/sverrnys/.local/lib/python3.12/site-packages (from scikit-learn) (1.13.0)\n",
      "Requirement already satisfied: joblib>=1.2.0 in /home/sverrnys/.local/lib/python3.12/site-packages (from scikit-learn) (1.4.2)\n",
      "Requirement already satisfied: threadpoolctl>=2.0.0 in /home/sverrnys/.local/lib/python3.12/site-packages (from scikit-learn) (3.5.0)\n",
      "Note: you may need to restart the kernel to use updated packages.\n",
      "Defaulting to user installation because normal site-packages is not writeable\n",
      "Requirement already satisfied: tensorflow in /home/sverrnys/.local/lib/python3.12/site-packages (2.16.1)\n",
      "Requirement already satisfied: absl-py>=1.0.0 in /home/sverrnys/.local/lib/python3.12/site-packages (from tensorflow) (2.1.0)\n",
      "Requirement already satisfied: astunparse>=1.6.0 in /home/sverrnys/.local/lib/python3.12/site-packages (from tensorflow) (1.6.3)\n",
      "Requirement already satisfied: flatbuffers>=23.5.26 in /home/sverrnys/.local/lib/python3.12/site-packages (from tensorflow) (24.3.25)\n",
      "Requirement already satisfied: gast!=0.5.0,!=0.5.1,!=0.5.2,>=0.2.1 in /home/sverrnys/.local/lib/python3.12/site-packages (from tensorflow) (0.5.4)\n",
      "Requirement already satisfied: google-pasta>=0.1.1 in /home/sverrnys/.local/lib/python3.12/site-packages (from tensorflow) (0.2.0)\n",
      "Requirement already satisfied: h5py>=3.10.0 in /home/sverrnys/.local/lib/python3.12/site-packages (from tensorflow) (3.11.0)\n",
      "Requirement already satisfied: libclang>=13.0.0 in /home/sverrnys/.local/lib/python3.12/site-packages (from tensorflow) (18.1.1)\n",
      "Requirement already satisfied: ml-dtypes~=0.3.1 in /home/sverrnys/.local/lib/python3.12/site-packages (from tensorflow) (0.3.2)\n",
      "Requirement already satisfied: opt-einsum>=2.3.2 in /home/sverrnys/.local/lib/python3.12/site-packages (from tensorflow) (3.3.0)\n",
      "Requirement already satisfied: packaging in /usr/lib/python3.12/site-packages (from tensorflow) (23.2)\n",
      "Requirement already satisfied: protobuf!=4.21.0,!=4.21.1,!=4.21.2,!=4.21.3,!=4.21.4,!=4.21.5,<5.0.0dev,>=3.20.3 in /home/sverrnys/.local/lib/python3.12/site-packages (from tensorflow) (4.25.3)\n",
      "Requirement already satisfied: requests<3,>=2.21.0 in /usr/lib/python3.12/site-packages (from tensorflow) (2.31.0)\n",
      "Requirement already satisfied: setuptools in /usr/lib/python3.12/site-packages (from tensorflow) (69.0.3)\n",
      "Requirement already satisfied: six>=1.12.0 in /usr/lib/python3.12/site-packages (from tensorflow) (1.16.0)\n",
      "Requirement already satisfied: termcolor>=1.1.0 in /home/sverrnys/.local/lib/python3.12/site-packages (from tensorflow) (2.4.0)\n",
      "Requirement already satisfied: typing-extensions>=3.6.6 in /home/sverrnys/.local/lib/python3.12/site-packages (from tensorflow) (4.11.0)\n",
      "Requirement already satisfied: wrapt>=1.11.0 in /home/sverrnys/.local/lib/python3.12/site-packages (from tensorflow) (1.16.0)\n",
      "Requirement already satisfied: grpcio<2.0,>=1.24.3 in /home/sverrnys/.local/lib/python3.12/site-packages (from tensorflow) (1.64.0)\n",
      "Requirement already satisfied: tensorboard<2.17,>=2.16 in /home/sverrnys/.local/lib/python3.12/site-packages (from tensorflow) (2.16.2)\n",
      "Requirement already satisfied: keras>=3.0.0 in /home/sverrnys/.local/lib/python3.12/site-packages (from tensorflow) (3.3.3)\n",
      "Requirement already satisfied: numpy<2.0.0,>=1.26.0 in /home/sverrnys/.local/lib/python3.12/site-packages (from tensorflow) (1.26.4)\n",
      "Requirement already satisfied: wheel<1.0,>=0.23.0 in /home/sverrnys/.local/lib/python3.12/site-packages (from astunparse>=1.6.0->tensorflow) (0.43.0)\n",
      "Requirement already satisfied: rich in /home/sverrnys/.local/lib/python3.12/site-packages (from keras>=3.0.0->tensorflow) (13.7.1)\n",
      "Requirement already satisfied: namex in /home/sverrnys/.local/lib/python3.12/site-packages (from keras>=3.0.0->tensorflow) (0.0.8)\n",
      "Requirement already satisfied: optree in /home/sverrnys/.local/lib/python3.12/site-packages (from keras>=3.0.0->tensorflow) (0.11.0)\n",
      "Requirement already satisfied: charset-normalizer<4,>=2 in /usr/lib/python3.12/site-packages (from requests<3,>=2.21.0->tensorflow) (3.3.2)\n",
      "Requirement already satisfied: idna<4,>=2.5 in /usr/lib/python3.12/site-packages (from requests<3,>=2.21.0->tensorflow) (3.7)\n",
      "Requirement already satisfied: urllib3<3,>=1.21.1 in /usr/lib/python3.12/site-packages (from requests<3,>=2.21.0->tensorflow) (1.26.18)\n",
      "Requirement already satisfied: markdown>=2.6.8 in /home/sverrnys/.local/lib/python3.12/site-packages (from tensorboard<2.17,>=2.16->tensorflow) (3.6)\n",
      "Requirement already satisfied: tensorboard-data-server<0.8.0,>=0.7.0 in /home/sverrnys/.local/lib/python3.12/site-packages (from tensorboard<2.17,>=2.16->tensorflow) (0.7.2)\n",
      "Requirement already satisfied: werkzeug>=1.0.1 in /home/sverrnys/.local/lib/python3.12/site-packages (from tensorboard<2.17,>=2.16->tensorflow) (3.0.3)\n",
      "Requirement already satisfied: MarkupSafe>=2.1.1 in /home/sverrnys/.local/lib/python3.12/site-packages (from werkzeug>=1.0.1->tensorboard<2.17,>=2.16->tensorflow) (2.1.5)\n",
      "Requirement already satisfied: markdown-it-py>=2.2.0 in /home/sverrnys/.local/lib/python3.12/site-packages (from rich->keras>=3.0.0->tensorflow) (3.0.0)\n",
      "Requirement already satisfied: pygments<3.0.0,>=2.13.0 in /home/sverrnys/.local/lib/python3.12/site-packages (from rich->keras>=3.0.0->tensorflow) (2.18.0)\n",
      "Requirement already satisfied: mdurl~=0.1 in /home/sverrnys/.local/lib/python3.12/site-packages (from markdown-it-py>=2.2.0->rich->keras>=3.0.0->tensorflow) (0.1.2)\n",
      "Note: you may need to restart the kernel to use updated packages.\n",
      "Defaulting to user installation because normal site-packages is not writeable\n",
      "Requirement already satisfied: shap in /home/sverrnys/.local/lib/python3.12/site-packages (0.45.1)\n",
      "Requirement already satisfied: numpy in /home/sverrnys/.local/lib/python3.12/site-packages (from shap) (1.26.4)\n",
      "Requirement already satisfied: scipy in /home/sverrnys/.local/lib/python3.12/site-packages (from shap) (1.13.0)\n",
      "Requirement already satisfied: scikit-learn in /home/sverrnys/.local/lib/python3.12/site-packages (from shap) (1.4.2)\n",
      "Requirement already satisfied: pandas in /home/sverrnys/.local/lib/python3.12/site-packages (from shap) (2.2.2)\n",
      "Requirement already satisfied: tqdm>=4.27.0 in /home/sverrnys/.local/lib/python3.12/site-packages (from shap) (4.66.4)\n",
      "Requirement already satisfied: packaging>20.9 in /usr/lib/python3.12/site-packages (from shap) (23.2)\n",
      "Requirement already satisfied: slicer==0.0.8 in /home/sverrnys/.local/lib/python3.12/site-packages (from shap) (0.0.8)\n",
      "Requirement already satisfied: numba in /home/sverrnys/.local/lib/python3.12/site-packages (from shap) (0.59.1)\n",
      "Requirement already satisfied: cloudpickle in /home/sverrnys/.local/lib/python3.12/site-packages (from shap) (3.0.0)\n",
      "Requirement already satisfied: llvmlite<0.43,>=0.42.0dev0 in /home/sverrnys/.local/lib/python3.12/site-packages (from numba->shap) (0.42.0)\n",
      "Requirement already satisfied: python-dateutil>=2.8.2 in /usr/lib/python3.12/site-packages (from pandas->shap) (2.8.2)\n",
      "Requirement already satisfied: pytz>=2020.1 in /home/sverrnys/.local/lib/python3.12/site-packages (from pandas->shap) (2024.1)\n",
      "Requirement already satisfied: tzdata>=2022.7 in /home/sverrnys/.local/lib/python3.12/site-packages (from pandas->shap) (2024.1)\n",
      "Requirement already satisfied: joblib>=1.2.0 in /home/sverrnys/.local/lib/python3.12/site-packages (from scikit-learn->shap) (1.4.2)\n",
      "Requirement already satisfied: threadpoolctl>=2.0.0 in /home/sverrnys/.local/lib/python3.12/site-packages (from scikit-learn->shap) (3.5.0)\n",
      "Requirement already satisfied: six>=1.5 in /usr/lib/python3.12/site-packages (from python-dateutil>=2.8.2->pandas->shap) (1.16.0)\n",
      "Note: you may need to restart the kernel to use updated packages.\n",
      "Defaulting to user installation because normal site-packages is not writeable\n",
      "Requirement already satisfied: pydot in /home/sverrnys/.local/lib/python3.12/site-packages (2.0.0)\n",
      "Requirement already satisfied: pyparsing>=3 in /home/sverrnys/.local/lib/python3.12/site-packages (from pydot) (3.1.2)\n",
      "Note: you may need to restart the kernel to use updated packages.\n"
     ]
    }
   ],
   "source": [
    "%pip install scikit-learn\n",
    "%pip install tensorflow\n",
    "%pip install shap\n",
    "%pip install pydot"
   ]
  },
  {
   "cell_type": "code",
   "execution_count": 77,
   "metadata": {},
   "outputs": [
    {
     "name": "stdout",
     "output_type": "stream",
     "text": [
      "The autoreload extension is already loaded. To reload it, use:\n",
      "  %reload_ext autoreload\n"
     ]
    }
   ],
   "source": [
    "%load_ext autoreload"
   ]
  },
  {
   "cell_type": "code",
   "execution_count": 78,
   "metadata": {},
   "outputs": [],
   "source": [
    "%autoreload 2\n",
    "\n",
    "from sklearn.preprocessing import StandardScaler, OneHotEncoder\n",
    "from sklearn.metrics import accuracy_score, classification_report\n",
    "import pandas as pd\n",
    "import tensorflow as tf\n",
    "from tensorflow import keras\n",
    "from tensorflow.keras import layers\n",
    "\n",
    "\n",
    "from src.ml_service import prepare_data, prepare_test_data, save_predictions\n",
    "from src.config import TARGET_FEATURE"
   ]
  },
  {
   "cell_type": "markdown",
   "metadata": {},
   "source": [
    "## Load data"
   ]
  },
  {
   "cell_type": "code",
   "execution_count": 79,
   "metadata": {},
   "outputs": [],
   "source": [
    "x_train, x_val, x_test, y_train, y_val, y_test = prepare_data(validation_size=0.1, test_size=0.1)\n"
   ]
  },
  {
   "cell_type": "code",
   "execution_count": 80,
   "metadata": {},
   "outputs": [
    {
     "data": {
      "text/html": [
       "<div>\n",
       "<style scoped>\n",
       "    .dataframe tbody tr th:only-of-type {\n",
       "        vertical-align: middle;\n",
       "    }\n",
       "\n",
       "    .dataframe tbody tr th {\n",
       "        vertical-align: top;\n",
       "    }\n",
       "\n",
       "    .dataframe thead th {\n",
       "        text-align: right;\n",
       "    }\n",
       "</style>\n",
       "<table border=\"1\" class=\"dataframe\">\n",
       "  <thead>\n",
       "    <tr style=\"text-align: right;\">\n",
       "      <th></th>\n",
       "      <th>Pclass</th>\n",
       "      <th>Sex</th>\n",
       "      <th>Age</th>\n",
       "      <th>SibSp</th>\n",
       "      <th>Parch</th>\n",
       "      <th>Fare</th>\n",
       "      <th>Cabin</th>\n",
       "      <th>Embarked</th>\n",
       "      <th>relatives</th>\n",
       "      <th>traveled_alone</th>\n",
       "      <th>FamilySize</th>\n",
       "      <th>Title</th>\n",
       "    </tr>\n",
       "  </thead>\n",
       "  <tbody>\n",
       "    <tr>\n",
       "      <th>count</th>\n",
       "      <td>712.000000</td>\n",
       "      <td>712.000000</td>\n",
       "      <td>712.000000</td>\n",
       "      <td>712.000000</td>\n",
       "      <td>712.000000</td>\n",
       "      <td>712.000000</td>\n",
       "      <td>712.000000</td>\n",
       "      <td>712.000000</td>\n",
       "      <td>712.000000</td>\n",
       "      <td>712.000000</td>\n",
       "      <td>712.000000</td>\n",
       "      <td>712.000000</td>\n",
       "    </tr>\n",
       "    <tr>\n",
       "      <th>mean</th>\n",
       "      <td>1.330056</td>\n",
       "      <td>0.655899</td>\n",
       "      <td>29.538225</td>\n",
       "      <td>0.553371</td>\n",
       "      <td>0.379213</td>\n",
       "      <td>32.586276</td>\n",
       "      <td>6.747191</td>\n",
       "      <td>1.564607</td>\n",
       "      <td>0.932584</td>\n",
       "      <td>0.602528</td>\n",
       "      <td>1.254213</td>\n",
       "      <td>1.356742</td>\n",
       "    </tr>\n",
       "    <tr>\n",
       "      <th>std</th>\n",
       "      <td>0.824584</td>\n",
       "      <td>0.475408</td>\n",
       "      <td>12.994548</td>\n",
       "      <td>1.176404</td>\n",
       "      <td>0.791669</td>\n",
       "      <td>51.969529</td>\n",
       "      <td>2.441004</td>\n",
       "      <td>0.773168</td>\n",
       "      <td>1.682525</td>\n",
       "      <td>0.489719</td>\n",
       "      <td>0.577335</td>\n",
       "      <td>0.651070</td>\n",
       "    </tr>\n",
       "    <tr>\n",
       "      <th>min</th>\n",
       "      <td>0.000000</td>\n",
       "      <td>0.000000</td>\n",
       "      <td>0.420000</td>\n",
       "      <td>0.000000</td>\n",
       "      <td>0.000000</td>\n",
       "      <td>0.000000</td>\n",
       "      <td>0.000000</td>\n",
       "      <td>0.000000</td>\n",
       "      <td>0.000000</td>\n",
       "      <td>0.000000</td>\n",
       "      <td>0.000000</td>\n",
       "      <td>0.000000</td>\n",
       "    </tr>\n",
       "    <tr>\n",
       "      <th>25%</th>\n",
       "      <td>1.000000</td>\n",
       "      <td>0.000000</td>\n",
       "      <td>22.000000</td>\n",
       "      <td>0.000000</td>\n",
       "      <td>0.000000</td>\n",
       "      <td>7.925000</td>\n",
       "      <td>8.000000</td>\n",
       "      <td>1.000000</td>\n",
       "      <td>0.000000</td>\n",
       "      <td>0.000000</td>\n",
       "      <td>1.000000</td>\n",
       "      <td>1.000000</td>\n",
       "    </tr>\n",
       "    <tr>\n",
       "      <th>50%</th>\n",
       "      <td>2.000000</td>\n",
       "      <td>1.000000</td>\n",
       "      <td>29.699118</td>\n",
       "      <td>0.000000</td>\n",
       "      <td>0.000000</td>\n",
       "      <td>14.454200</td>\n",
       "      <td>8.000000</td>\n",
       "      <td>2.000000</td>\n",
       "      <td>0.000000</td>\n",
       "      <td>1.000000</td>\n",
       "      <td>1.000000</td>\n",
       "      <td>1.000000</td>\n",
       "    </tr>\n",
       "    <tr>\n",
       "      <th>75%</th>\n",
       "      <td>2.000000</td>\n",
       "      <td>1.000000</td>\n",
       "      <td>35.000000</td>\n",
       "      <td>1.000000</td>\n",
       "      <td>0.000000</td>\n",
       "      <td>30.500000</td>\n",
       "      <td>8.000000</td>\n",
       "      <td>2.000000</td>\n",
       "      <td>1.000000</td>\n",
       "      <td>1.000000</td>\n",
       "      <td>2.000000</td>\n",
       "      <td>2.000000</td>\n",
       "    </tr>\n",
       "    <tr>\n",
       "      <th>max</th>\n",
       "      <td>2.000000</td>\n",
       "      <td>1.000000</td>\n",
       "      <td>80.000000</td>\n",
       "      <td>8.000000</td>\n",
       "      <td>6.000000</td>\n",
       "      <td>512.329200</td>\n",
       "      <td>8.000000</td>\n",
       "      <td>2.000000</td>\n",
       "      <td>10.000000</td>\n",
       "      <td>1.000000</td>\n",
       "      <td>2.000000</td>\n",
       "      <td>5.000000</td>\n",
       "    </tr>\n",
       "  </tbody>\n",
       "</table>\n",
       "</div>"
      ],
      "text/plain": [
       "           Pclass         Sex         Age       SibSp       Parch        Fare  \\\n",
       "count  712.000000  712.000000  712.000000  712.000000  712.000000  712.000000   \n",
       "mean     1.330056    0.655899   29.538225    0.553371    0.379213   32.586276   \n",
       "std      0.824584    0.475408   12.994548    1.176404    0.791669   51.969529   \n",
       "min      0.000000    0.000000    0.420000    0.000000    0.000000    0.000000   \n",
       "25%      1.000000    0.000000   22.000000    0.000000    0.000000    7.925000   \n",
       "50%      2.000000    1.000000   29.699118    0.000000    0.000000   14.454200   \n",
       "75%      2.000000    1.000000   35.000000    1.000000    0.000000   30.500000   \n",
       "max      2.000000    1.000000   80.000000    8.000000    6.000000  512.329200   \n",
       "\n",
       "            Cabin    Embarked   relatives  traveled_alone  FamilySize  \\\n",
       "count  712.000000  712.000000  712.000000      712.000000  712.000000   \n",
       "mean     6.747191    1.564607    0.932584        0.602528    1.254213   \n",
       "std      2.441004    0.773168    1.682525        0.489719    0.577335   \n",
       "min      0.000000    0.000000    0.000000        0.000000    0.000000   \n",
       "25%      8.000000    1.000000    0.000000        0.000000    1.000000   \n",
       "50%      8.000000    2.000000    0.000000        1.000000    1.000000   \n",
       "75%      8.000000    2.000000    1.000000        1.000000    2.000000   \n",
       "max      8.000000    2.000000   10.000000        1.000000    2.000000   \n",
       "\n",
       "            Title  \n",
       "count  712.000000  \n",
       "mean     1.356742  \n",
       "std      0.651070  \n",
       "min      0.000000  \n",
       "25%      1.000000  \n",
       "50%      1.000000  \n",
       "75%      2.000000  \n",
       "max      5.000000  "
      ]
     },
     "execution_count": 80,
     "metadata": {},
     "output_type": "execute_result"
    }
   ],
   "source": [
    "# Get all the rows containing nans\n",
    "\n",
    "x_train.describe()"
   ]
  },
  {
   "cell_type": "markdown",
   "metadata": {},
   "source": [
    "## Train model\n",
    "\n"
   ]
  },
  {
   "cell_type": "code",
   "execution_count": 81,
   "metadata": {},
   "outputs": [
    {
     "name": "stderr",
     "output_type": "stream",
     "text": [
      "/home/sverrnys/.local/lib/python3.12/site-packages/keras/src/layers/core/dense.py:87: UserWarning: Do not pass an `input_shape`/`input_dim` argument to a layer. When using Sequential models, prefer using an `Input(shape)` object as the first layer in the model instead.\n",
      "  super().__init__(activity_regularizer=activity_regularizer, **kwargs)\n"
     ]
    }
   ],
   "source": [
    "from tensorflow.keras.callbacks import EarlyStopping, ReduceLROnPlateau, ModelCheckpoint\n",
    "\n",
    "# Define callbacks\n",
    "early_stopping = EarlyStopping(monitor='val_loss', patience=10, restore_best_weights=True)\n",
    "reduce_lr = ReduceLROnPlateau(monitor='val_loss', factor=0.2, patience=5, min_lr=0.001)\n",
    "callbacks = [early_stopping, reduce_lr]\n",
    "\n",
    "\n",
    "def build_model(input_shape) -> keras.Sequential:\n",
    "    model = keras.Sequential([\n",
    "        layers.Dense(64, activation='relu', input_shape=[input_shape]), \n",
    "        layers.Dropout(0.3),\n",
    "        layers.Dense(32, activation='relu'),\n",
    "        layers.Dropout(0.3),\n",
    "        layers.Dense(32, activation='relu'),\n",
    "        layers.Dropout(0.3),\n",
    "        layers.Dense(32, activation='relu'), \n",
    "        layers.Dense(1)  \n",
    "    ])\n",
    "\n",
    "    # Compile the model\n",
    "    model.compile(optimizer='adam',\n",
    "                  loss='binary_crossentropy', \n",
    "                  metrics=['accuracy'])\n",
    "    return model\n",
    "\n",
    "predictor = build_model(x_train.shape[1])"
   ]
  },
  {
   "cell_type": "code",
   "execution_count": 82,
   "metadata": {},
   "outputs": [
    {
     "name": "stdout",
     "output_type": "stream",
     "text": [
      "Epoch 1/500\n",
      "\u001b[1m23/23\u001b[0m \u001b[32m━━━━━━━━━━━━━━━━━━━━\u001b[0m\u001b[37m\u001b[0m \u001b[1m2s\u001b[0m 7ms/step - accuracy: 0.4756 - loss: 6.8013 - val_accuracy: 0.6629 - val_loss: 3.9578 - learning_rate: 0.0010\n",
      "Epoch 2/500\n",
      "\u001b[1m23/23\u001b[0m \u001b[32m━━━━━━━━━━━━━━━━━━━━\u001b[0m\u001b[37m\u001b[0m \u001b[1m0s\u001b[0m 2ms/step - accuracy: 0.5858 - loss: 5.5763 - val_accuracy: 0.5730 - val_loss: 6.0557 - learning_rate: 0.0010\n",
      "Epoch 3/500\n",
      "\u001b[1m23/23\u001b[0m \u001b[32m━━━━━━━━━━━━━━━━━━━━\u001b[0m\u001b[37m\u001b[0m \u001b[1m0s\u001b[0m 2ms/step - accuracy: 0.6151 - loss: 5.4363 - val_accuracy: 0.5730 - val_loss: 5.4806 - learning_rate: 0.0010\n",
      "Epoch 4/500\n",
      "\u001b[1m23/23\u001b[0m \u001b[32m━━━━━━━━━━━━━━━━━━━━\u001b[0m\u001b[37m\u001b[0m \u001b[1m0s\u001b[0m 2ms/step - accuracy: 0.6243 - loss: 5.2008 - val_accuracy: 0.6517 - val_loss: 3.8450 - learning_rate: 0.0010\n",
      "Epoch 5/500\n",
      "\u001b[1m23/23\u001b[0m \u001b[32m━━━━━━━━━━━━━━━━━━━━\u001b[0m\u001b[37m\u001b[0m \u001b[1m0s\u001b[0m 2ms/step - accuracy: 0.5808 - loss: 5.5356 - val_accuracy: 0.6742 - val_loss: 3.7947 - learning_rate: 0.0010\n",
      "Epoch 6/500\n",
      "\u001b[1m23/23\u001b[0m \u001b[32m━━━━━━━━━━━━━━━━━━━━\u001b[0m\u001b[37m\u001b[0m \u001b[1m0s\u001b[0m 2ms/step - accuracy: 0.6337 - loss: 4.7982 - val_accuracy: 0.6854 - val_loss: 3.6280 - learning_rate: 0.0010\n",
      "Epoch 7/500\n",
      "\u001b[1m23/23\u001b[0m \u001b[32m━━━━━━━━━━━━━━━━━━━━\u001b[0m\u001b[37m\u001b[0m \u001b[1m0s\u001b[0m 2ms/step - accuracy: 0.6235 - loss: 4.7356 - val_accuracy: 0.7528 - val_loss: 2.6900 - learning_rate: 0.0010\n",
      "Epoch 8/500\n",
      "\u001b[1m23/23\u001b[0m \u001b[32m━━━━━━━━━━━━━━━━━━━━\u001b[0m\u001b[37m\u001b[0m \u001b[1m0s\u001b[0m 2ms/step - accuracy: 0.6007 - loss: 5.1908 - val_accuracy: 0.7528 - val_loss: 2.8424 - learning_rate: 0.0010\n",
      "Epoch 9/500\n",
      "\u001b[1m23/23\u001b[0m \u001b[32m━━━━━━━━━━━━━━━━━━━━\u001b[0m\u001b[37m\u001b[0m \u001b[1m0s\u001b[0m 2ms/step - accuracy: 0.6023 - loss: 4.9419 - val_accuracy: 0.7528 - val_loss: 2.3873 - learning_rate: 0.0010\n",
      "Epoch 10/500\n",
      "\u001b[1m23/23\u001b[0m \u001b[32m━━━━━━━━━━━━━━━━━━━━\u001b[0m\u001b[37m\u001b[0m \u001b[1m0s\u001b[0m 2ms/step - accuracy: 0.5723 - loss: 5.1219 - val_accuracy: 0.7079 - val_loss: 3.1295 - learning_rate: 0.0010\n",
      "Epoch 11/500\n",
      "\u001b[1m23/23\u001b[0m \u001b[32m━━━━━━━━━━━━━━━━━━━━\u001b[0m\u001b[37m\u001b[0m \u001b[1m0s\u001b[0m 2ms/step - accuracy: 0.6050 - loss: 5.6060 - val_accuracy: 0.7416 - val_loss: 3.4018 - learning_rate: 0.0010\n",
      "Epoch 12/500\n",
      "\u001b[1m23/23\u001b[0m \u001b[32m━━━━━━━━━━━━━━━━━━━━\u001b[0m\u001b[37m\u001b[0m \u001b[1m0s\u001b[0m 2ms/step - accuracy: 0.6075 - loss: 5.2427 - val_accuracy: 0.7416 - val_loss: 3.3298 - learning_rate: 0.0010\n",
      "Epoch 13/500\n",
      "\u001b[1m23/23\u001b[0m \u001b[32m━━━━━━━━━━━━━━━━━━━━\u001b[0m\u001b[37m\u001b[0m \u001b[1m0s\u001b[0m 2ms/step - accuracy: 0.6147 - loss: 5.1474 - val_accuracy: 0.7528 - val_loss: 3.0292 - learning_rate: 0.0010\n",
      "Epoch 14/500\n",
      "\u001b[1m23/23\u001b[0m \u001b[32m━━━━━━━━━━━━━━━━━━━━\u001b[0m\u001b[37m\u001b[0m \u001b[1m0s\u001b[0m 2ms/step - accuracy: 0.6338 - loss: 4.8056 - val_accuracy: 0.7753 - val_loss: 3.0149 - learning_rate: 0.0010\n",
      "Epoch 15/500\n",
      "\u001b[1m23/23\u001b[0m \u001b[32m━━━━━━━━━━━━━━━━━━━━\u001b[0m\u001b[37m\u001b[0m \u001b[1m0s\u001b[0m 2ms/step - accuracy: 0.6374 - loss: 4.4747 - val_accuracy: 0.7753 - val_loss: 2.8240 - learning_rate: 0.0010\n",
      "Epoch 16/500\n",
      "\u001b[1m23/23\u001b[0m \u001b[32m━━━━━━━━━━━━━━━━━━━━\u001b[0m\u001b[37m\u001b[0m \u001b[1m0s\u001b[0m 2ms/step - accuracy: 0.6170 - loss: 4.6317 - val_accuracy: 0.7753 - val_loss: 2.9668 - learning_rate: 0.0010\n",
      "Epoch 17/500\n",
      "\u001b[1m23/23\u001b[0m \u001b[32m━━━━━━━━━━━━━━━━━━━━\u001b[0m\u001b[37m\u001b[0m \u001b[1m0s\u001b[0m 2ms/step - accuracy: 0.5943 - loss: 5.1173 - val_accuracy: 0.7528 - val_loss: 3.0712 - learning_rate: 0.0010\n",
      "Epoch 18/500\n",
      "\u001b[1m23/23\u001b[0m \u001b[32m━━━━━━━━━━━━━━━━━━━━\u001b[0m\u001b[37m\u001b[0m \u001b[1m0s\u001b[0m 2ms/step - accuracy: 0.6102 - loss: 4.8876 - val_accuracy: 0.7303 - val_loss: 3.3770 - learning_rate: 0.0010\n",
      "Epoch 19/500\n",
      "\u001b[1m23/23\u001b[0m \u001b[32m━━━━━━━━━━━━━━━━━━━━\u001b[0m\u001b[37m\u001b[0m \u001b[1m0s\u001b[0m 2ms/step - accuracy: 0.6320 - loss: 4.9282 - val_accuracy: 0.7528 - val_loss: 3.1861 - learning_rate: 0.0010\n"
     ]
    }
   ],
   "source": [
    "history = predictor.fit(x_train, y_train, epochs=500, validation_data=(x_val, y_val), callbacks=callbacks)\n"
   ]
  },
  {
   "cell_type": "code",
   "execution_count": 83,
   "metadata": {},
   "outputs": [
    {
     "data": {
      "text/html": [
       "<pre style=\"white-space:pre;overflow-x:auto;line-height:normal;font-family:Menlo,'DejaVu Sans Mono',consolas,'Courier New',monospace\"><span style=\"font-weight: bold\">Model: \"sequential_6\"</span>\n",
       "</pre>\n"
      ],
      "text/plain": [
       "\u001b[1mModel: \"sequential_6\"\u001b[0m\n"
      ]
     },
     "metadata": {},
     "output_type": "display_data"
    },
    {
     "data": {
      "text/html": [
       "<pre style=\"white-space:pre;overflow-x:auto;line-height:normal;font-family:Menlo,'DejaVu Sans Mono',consolas,'Courier New',monospace\">┏━━━━━━━━━━━━━━━━━━━━━━━━━━━━━━━━━┳━━━━━━━━━━━━━━━━━━━━━━━━┳━━━━━━━━━━━━━━━┓\n",
       "┃<span style=\"font-weight: bold\"> Layer (type)                    </span>┃<span style=\"font-weight: bold\"> Output Shape           </span>┃<span style=\"font-weight: bold\">       Param # </span>┃\n",
       "┡━━━━━━━━━━━━━━━━━━━━━━━━━━━━━━━━━╇━━━━━━━━━━━━━━━━━━━━━━━━╇━━━━━━━━━━━━━━━┩\n",
       "│ dense_30 (<span style=\"color: #0087ff; text-decoration-color: #0087ff\">Dense</span>)                │ (<span style=\"color: #00d7ff; text-decoration-color: #00d7ff\">None</span>, <span style=\"color: #00af00; text-decoration-color: #00af00\">64</span>)             │           <span style=\"color: #00af00; text-decoration-color: #00af00\">832</span> │\n",
       "├─────────────────────────────────┼────────────────────────┼───────────────┤\n",
       "│ dropout_18 (<span style=\"color: #0087ff; text-decoration-color: #0087ff\">Dropout</span>)            │ (<span style=\"color: #00d7ff; text-decoration-color: #00d7ff\">None</span>, <span style=\"color: #00af00; text-decoration-color: #00af00\">64</span>)             │             <span style=\"color: #00af00; text-decoration-color: #00af00\">0</span> │\n",
       "├─────────────────────────────────┼────────────────────────┼───────────────┤\n",
       "│ dense_31 (<span style=\"color: #0087ff; text-decoration-color: #0087ff\">Dense</span>)                │ (<span style=\"color: #00d7ff; text-decoration-color: #00d7ff\">None</span>, <span style=\"color: #00af00; text-decoration-color: #00af00\">32</span>)             │         <span style=\"color: #00af00; text-decoration-color: #00af00\">2,080</span> │\n",
       "├─────────────────────────────────┼────────────────────────┼───────────────┤\n",
       "│ dropout_19 (<span style=\"color: #0087ff; text-decoration-color: #0087ff\">Dropout</span>)            │ (<span style=\"color: #00d7ff; text-decoration-color: #00d7ff\">None</span>, <span style=\"color: #00af00; text-decoration-color: #00af00\">32</span>)             │             <span style=\"color: #00af00; text-decoration-color: #00af00\">0</span> │\n",
       "├─────────────────────────────────┼────────────────────────┼───────────────┤\n",
       "│ dense_32 (<span style=\"color: #0087ff; text-decoration-color: #0087ff\">Dense</span>)                │ (<span style=\"color: #00d7ff; text-decoration-color: #00d7ff\">None</span>, <span style=\"color: #00af00; text-decoration-color: #00af00\">32</span>)             │         <span style=\"color: #00af00; text-decoration-color: #00af00\">1,056</span> │\n",
       "├─────────────────────────────────┼────────────────────────┼───────────────┤\n",
       "│ dropout_20 (<span style=\"color: #0087ff; text-decoration-color: #0087ff\">Dropout</span>)            │ (<span style=\"color: #00d7ff; text-decoration-color: #00d7ff\">None</span>, <span style=\"color: #00af00; text-decoration-color: #00af00\">32</span>)             │             <span style=\"color: #00af00; text-decoration-color: #00af00\">0</span> │\n",
       "├─────────────────────────────────┼────────────────────────┼───────────────┤\n",
       "│ dense_33 (<span style=\"color: #0087ff; text-decoration-color: #0087ff\">Dense</span>)                │ (<span style=\"color: #00d7ff; text-decoration-color: #00d7ff\">None</span>, <span style=\"color: #00af00; text-decoration-color: #00af00\">32</span>)             │         <span style=\"color: #00af00; text-decoration-color: #00af00\">1,056</span> │\n",
       "├─────────────────────────────────┼────────────────────────┼───────────────┤\n",
       "│ dense_34 (<span style=\"color: #0087ff; text-decoration-color: #0087ff\">Dense</span>)                │ (<span style=\"color: #00d7ff; text-decoration-color: #00d7ff\">None</span>, <span style=\"color: #00af00; text-decoration-color: #00af00\">1</span>)              │            <span style=\"color: #00af00; text-decoration-color: #00af00\">33</span> │\n",
       "└─────────────────────────────────┴────────────────────────┴───────────────┘\n",
       "</pre>\n"
      ],
      "text/plain": [
       "┏━━━━━━━━━━━━━━━━━━━━━━━━━━━━━━━━━┳━━━━━━━━━━━━━━━━━━━━━━━━┳━━━━━━━━━━━━━━━┓\n",
       "┃\u001b[1m \u001b[0m\u001b[1mLayer (type)                   \u001b[0m\u001b[1m \u001b[0m┃\u001b[1m \u001b[0m\u001b[1mOutput Shape          \u001b[0m\u001b[1m \u001b[0m┃\u001b[1m \u001b[0m\u001b[1m      Param #\u001b[0m\u001b[1m \u001b[0m┃\n",
       "┡━━━━━━━━━━━━━━━━━━━━━━━━━━━━━━━━━╇━━━━━━━━━━━━━━━━━━━━━━━━╇━━━━━━━━━━━━━━━┩\n",
       "│ dense_30 (\u001b[38;5;33mDense\u001b[0m)                │ (\u001b[38;5;45mNone\u001b[0m, \u001b[38;5;34m64\u001b[0m)             │           \u001b[38;5;34m832\u001b[0m │\n",
       "├─────────────────────────────────┼────────────────────────┼───────────────┤\n",
       "│ dropout_18 (\u001b[38;5;33mDropout\u001b[0m)            │ (\u001b[38;5;45mNone\u001b[0m, \u001b[38;5;34m64\u001b[0m)             │             \u001b[38;5;34m0\u001b[0m │\n",
       "├─────────────────────────────────┼────────────────────────┼───────────────┤\n",
       "│ dense_31 (\u001b[38;5;33mDense\u001b[0m)                │ (\u001b[38;5;45mNone\u001b[0m, \u001b[38;5;34m32\u001b[0m)             │         \u001b[38;5;34m2,080\u001b[0m │\n",
       "├─────────────────────────────────┼────────────────────────┼───────────────┤\n",
       "│ dropout_19 (\u001b[38;5;33mDropout\u001b[0m)            │ (\u001b[38;5;45mNone\u001b[0m, \u001b[38;5;34m32\u001b[0m)             │             \u001b[38;5;34m0\u001b[0m │\n",
       "├─────────────────────────────────┼────────────────────────┼───────────────┤\n",
       "│ dense_32 (\u001b[38;5;33mDense\u001b[0m)                │ (\u001b[38;5;45mNone\u001b[0m, \u001b[38;5;34m32\u001b[0m)             │         \u001b[38;5;34m1,056\u001b[0m │\n",
       "├─────────────────────────────────┼────────────────────────┼───────────────┤\n",
       "│ dropout_20 (\u001b[38;5;33mDropout\u001b[0m)            │ (\u001b[38;5;45mNone\u001b[0m, \u001b[38;5;34m32\u001b[0m)             │             \u001b[38;5;34m0\u001b[0m │\n",
       "├─────────────────────────────────┼────────────────────────┼───────────────┤\n",
       "│ dense_33 (\u001b[38;5;33mDense\u001b[0m)                │ (\u001b[38;5;45mNone\u001b[0m, \u001b[38;5;34m32\u001b[0m)             │         \u001b[38;5;34m1,056\u001b[0m │\n",
       "├─────────────────────────────────┼────────────────────────┼───────────────┤\n",
       "│ dense_34 (\u001b[38;5;33mDense\u001b[0m)                │ (\u001b[38;5;45mNone\u001b[0m, \u001b[38;5;34m1\u001b[0m)              │            \u001b[38;5;34m33\u001b[0m │\n",
       "└─────────────────────────────────┴────────────────────────┴───────────────┘\n"
      ]
     },
     "metadata": {},
     "output_type": "display_data"
    },
    {
     "data": {
      "text/html": [
       "<pre style=\"white-space:pre;overflow-x:auto;line-height:normal;font-family:Menlo,'DejaVu Sans Mono',consolas,'Courier New',monospace\"><span style=\"font-weight: bold\"> Total params: </span><span style=\"color: #00af00; text-decoration-color: #00af00\">15,173</span> (59.27 KB)\n",
       "</pre>\n"
      ],
      "text/plain": [
       "\u001b[1m Total params: \u001b[0m\u001b[38;5;34m15,173\u001b[0m (59.27 KB)\n"
      ]
     },
     "metadata": {},
     "output_type": "display_data"
    },
    {
     "data": {
      "text/html": [
       "<pre style=\"white-space:pre;overflow-x:auto;line-height:normal;font-family:Menlo,'DejaVu Sans Mono',consolas,'Courier New',monospace\"><span style=\"font-weight: bold\"> Trainable params: </span><span style=\"color: #00af00; text-decoration-color: #00af00\">5,057</span> (19.75 KB)\n",
       "</pre>\n"
      ],
      "text/plain": [
       "\u001b[1m Trainable params: \u001b[0m\u001b[38;5;34m5,057\u001b[0m (19.75 KB)\n"
      ]
     },
     "metadata": {},
     "output_type": "display_data"
    },
    {
     "data": {
      "text/html": [
       "<pre style=\"white-space:pre;overflow-x:auto;line-height:normal;font-family:Menlo,'DejaVu Sans Mono',consolas,'Courier New',monospace\"><span style=\"font-weight: bold\"> Non-trainable params: </span><span style=\"color: #00af00; text-decoration-color: #00af00\">0</span> (0.00 B)\n",
       "</pre>\n"
      ],
      "text/plain": [
       "\u001b[1m Non-trainable params: \u001b[0m\u001b[38;5;34m0\u001b[0m (0.00 B)\n"
      ]
     },
     "metadata": {},
     "output_type": "display_data"
    },
    {
     "data": {
      "text/html": [
       "<pre style=\"white-space:pre;overflow-x:auto;line-height:normal;font-family:Menlo,'DejaVu Sans Mono',consolas,'Courier New',monospace\"><span style=\"font-weight: bold\"> Optimizer params: </span><span style=\"color: #00af00; text-decoration-color: #00af00\">10,116</span> (39.52 KB)\n",
       "</pre>\n"
      ],
      "text/plain": [
       "\u001b[1m Optimizer params: \u001b[0m\u001b[38;5;34m10,116\u001b[0m (39.52 KB)\n"
      ]
     },
     "metadata": {},
     "output_type": "display_data"
    },
    {
     "name": "stdout",
     "output_type": "stream",
     "text": [
      "Weights: [[ 0.00188744  0.2660526   0.271411   -0.10187279 -0.2838394   0.23233184\n",
      "  -0.03671126 -0.03827478  0.15565242 -0.22702849  0.04038374  0.13199376\n",
      "   0.19736442  0.23833418  0.12647769  0.14414372 -0.00043907 -0.15847066\n",
      "   0.12846522  0.26136723  0.02369625 -0.0952     -0.12407651  0.04213145\n",
      "   0.12310828 -0.22832453  0.09724304  0.20000225  0.08530735 -0.02046266\n",
      "   0.15502714  0.14347896 -0.18122105  0.23454317  0.08252704  0.13850142\n",
      "  -0.1884835  -0.1707319   0.24681349  0.21715511 -0.0119629   0.03154738\n",
      "   0.07854541  0.09554458  0.12925473 -0.14442554  0.02613057 -0.09971552\n",
      "  -0.00654239  0.27416646  0.2521693  -0.02815086  0.1688562   0.21347755\n",
      "  -0.08733824  0.03775012 -0.24711409 -0.15055521 -0.11356595 -0.10353727\n",
      "  -0.21766251  0.04249714  0.24354716  0.13672625]\n",
      " [-0.26279616  0.20040615  0.17081869  0.07703155  0.14537561 -0.20955005\n",
      "  -0.11486678  0.01433983  0.00440212  0.23872975 -0.15985018 -0.1020489\n",
      "  -0.2731421   0.00346149  0.18732585  0.16683684  0.1839821   0.25877246\n",
      "   0.11274263  0.02260083 -0.08665729 -0.16566533  0.11552873 -0.07752579\n",
      "   0.24128282  0.08620755  0.2335464   0.08767329  0.15018712  0.07919651\n",
      "   0.18170464  0.2753245   0.20464996  0.13997394  0.13327387 -0.17007005\n",
      "   0.10621426  0.09657481  0.08380411 -0.11374198 -0.05693524  0.03952122\n",
      "  -0.08831431  0.01151358  0.25389025  0.06399542 -0.16652563  0.15225485\n",
      "  -0.27412263  0.18467617 -0.06113585 -0.11110759  0.0539482  -0.16334735\n",
      "  -0.28429288 -0.19988343  0.19219816  0.04100031 -0.00569326 -0.20205292\n",
      "  -0.07565991 -0.06853127 -0.10803824 -0.18794686]\n",
      " [-0.24406312 -0.2612673   0.16147234 -0.15790597 -0.25067073  0.07240968\n",
      "   0.25747696 -0.06076714  0.11136503 -0.16009915  0.06114538 -0.12776753\n",
      "  -0.24996993 -0.1065781  -0.09828439  0.15518199  0.28580448 -0.04176261\n",
      "  -0.0127534  -0.00376403 -0.02030565  0.06026689  0.05721016 -0.11125624\n",
      "   0.14752303  0.00307588 -0.11882845  0.08691176 -0.16780356 -0.25660825\n",
      "   0.24493033 -0.02093345 -0.26557797 -0.00089747 -0.06730489 -0.12482326\n",
      "   0.12695281 -0.07324937 -0.15868154  0.14384344  0.18791586 -0.04235944\n",
      "  -0.23272972 -0.13102987 -0.17295751  0.18068795  0.22126944 -0.25379753\n",
      "   0.19230813  0.08981549  0.18748319 -0.08392574 -0.11947565  0.24246532\n",
      "   0.08223926  0.18001011  0.2803116   0.0559395   0.03020751  0.2339646\n",
      "   0.17550454 -0.24973191  0.11291151  0.06698742]\n",
      " [-0.16874485  0.0312979   0.16205123  0.17736578  0.17130576  0.14354931\n",
      "   0.22205897  0.2677528  -0.24704072 -0.09928885 -0.07919338  0.20693848\n",
      "   0.17188309 -0.03784445  0.23651353 -0.08777949  0.11006894 -0.23000589\n",
      "   0.2305433  -0.1405623   0.22765824 -0.00182593 -0.18462786  0.15243638\n",
      "  -0.11246166 -0.1521254  -0.04276504  0.2435473   0.24691816  0.12424737\n",
      "   0.17689468 -0.21962537  0.11199096  0.0428828  -0.26480794  0.26778948\n",
      "   0.11938715 -0.1038861  -0.27121186  0.2554462   0.14115658  0.12174715\n",
      "  -0.18384834  0.05963353  0.11626348 -0.05645644  0.17557795  0.12696865\n",
      "   0.11724178  0.13978782 -0.18336342  0.05545834  0.22204755  0.00573586\n",
      "   0.06548101  0.17438966  0.05956116  0.01875698  0.06944605  0.14425085\n",
      "   0.12828882 -0.0412484  -0.26892027  0.28576276]\n",
      " [ 0.12911502 -0.0876359  -0.07101858 -0.27918342 -0.08724735  0.19119796\n",
      "  -0.26591367 -0.11431581  0.17242746 -0.07196015 -0.2512029  -0.198673\n",
      "   0.20228717 -0.2847405   0.1459107   0.18764162 -0.2552879  -0.10565774\n",
      "  -0.01946056 -0.24750908  0.21303983 -0.13495424 -0.01503379  0.2703162\n",
      "   0.26098382 -0.07918493 -0.13544005  0.20888253  0.06642412  0.04799882\n",
      "   0.08727048 -0.10473043 -0.00552324 -0.04037477 -0.17884946 -0.02667102\n",
      "  -0.1958776  -0.2642787  -0.18179914 -0.05307326  0.06486026  0.0804804\n",
      "  -0.06367569  0.12890393 -0.22907703 -0.01884746  0.05358969  0.24202678\n",
      "  -0.22685887 -0.18698339  0.21033327  0.09004266 -0.130205    0.2166348\n",
      "  -0.15197776  0.25980222  0.22181022  0.1231964   0.13184215 -0.13652141\n",
      "   0.20062737  0.22756036  0.2730926   0.22397128]\n",
      " [-0.26795584 -0.12455545  0.02987184 -0.07761569  0.11966183  0.2382433\n",
      "   0.04278677 -0.05464013 -0.24189526 -0.2184006   0.02493216 -0.05330784\n",
      "   0.26317346  0.09865259  0.26480594 -0.19209829 -0.25100645  0.05912517\n",
      "  -0.09252006 -0.10155377 -0.09604363  0.15171812  0.19850492 -0.11668409\n",
      "   0.1904325  -0.24343663 -0.20910743  0.16884923  0.27411273 -0.13640624\n",
      "   0.21584748 -0.20837161  0.24905048 -0.186993   -0.24102178  0.16055268\n",
      "   0.02965341 -0.23439965  0.04010042 -0.12591293 -0.22346145  0.2634251\n",
      "   0.23522048  0.06414878 -0.1960558   0.03388076 -0.21991086  0.21849187\n",
      "  -0.25336283 -0.08654902  0.12371721  0.21428163  0.05285863 -0.14113818\n",
      "   0.25849986 -0.02512518  0.19223775 -0.02132339  0.023538    0.02611841\n",
      "  -0.28156677  0.20768186 -0.1695439  -0.09917492]\n",
      " [ 0.22464773  0.21123657  0.13868913 -0.2765258  -0.21615635  0.04474806\n",
      "   0.1667657  -0.24515626 -0.15867417 -0.06703123  0.01315579  0.3089295\n",
      "  -0.0308594   0.07112179  0.10175301 -0.08027975 -0.10404421  0.06491976\n",
      "  -0.02556158 -0.14202897  0.13425517 -0.09334688  0.20744057  0.05733994\n",
      "   0.22515893 -0.1474      0.09052643 -0.02817618  0.08663451  0.2073543\n",
      "  -0.16323702 -0.20600392  0.05950094 -0.15775597  0.04214203 -0.17264706\n",
      "   0.02919151  0.16691977 -0.14881039 -0.08804584  0.06110024 -0.0469868\n",
      "   0.20623414 -0.15424073 -0.18996233  0.26197848  0.13790622 -0.253731\n",
      "   0.15324664  0.08350514 -0.13051613  0.20862192  0.08759306  0.21400797\n",
      "  -0.1389889   0.24231698  0.14390579  0.14683147 -0.1940141  -0.25916302\n",
      "  -0.24047764  0.09440093 -0.15668367 -0.07597356]\n",
      " [ 0.26250723 -0.04482497  0.23722062  0.12533095  0.24756716  0.09017824\n",
      "  -0.27919436 -0.14989083 -0.04786227  0.09506613 -0.2002151  -0.19244912\n",
      "  -0.11888824 -0.17139529 -0.0169274  -0.16695428 -0.1875188   0.2479104\n",
      "  -0.07477118  0.1002793  -0.13268657 -0.05464286  0.14737406 -0.08186278\n",
      "  -0.22461048 -0.27722296 -0.1732879  -0.17761278  0.25622314  0.01684755\n",
      "   0.20619905  0.104406   -0.09633821 -0.00309229 -0.01557997  0.08070435\n",
      "  -0.18193083  0.0838781   0.16507016  0.15025811  0.23108387 -0.14181103\n",
      "  -0.1923412  -0.17927016  0.1868124   0.19742206  0.2555293  -0.25790784\n",
      "   0.09017926  0.13575616 -0.07449056 -0.2530036   0.22207592  0.01106227\n",
      "   0.23666789 -0.13940184 -0.02948899  0.16703442  0.03208899  0.14845647\n",
      "   0.12928158  0.1647927  -0.12316562 -0.19326076]\n",
      " [-0.27419522 -0.10328121 -0.25773337  0.25999483  0.01246077  0.15340666\n",
      "  -0.09623639  0.02389514  0.03056539 -0.04291068 -0.25237507 -0.05242795\n",
      "  -0.28983507 -0.0039395   0.04695376 -0.2652994   0.11312977  0.04656636\n",
      "   0.12713675 -0.17636253  0.24158461 -0.12255814 -0.08026544 -0.2493375\n",
      "  -0.09667209 -0.14537336 -0.20963296  0.28220806 -0.13322203 -0.08973891\n",
      "  -0.17894633  0.23169485  0.10166589  0.267903   -0.06184462  0.12112509\n",
      "   0.1985399   0.19842455 -0.22965124  0.16367006  0.23490898 -0.15325382\n",
      "   0.26041785 -0.14503823 -0.05342393  0.20233743 -0.09692446 -0.08449372\n",
      "  -0.0319349   0.08805098 -0.04935256 -0.1129443   0.19286995 -0.06058259\n",
      "   0.1511842  -0.04754506  0.15405801  0.19795708 -0.0056958   0.24017763\n",
      "   0.10917526  0.26822588  0.15590328  0.06726263]\n",
      " [ 0.02583978 -0.03637408 -0.1590381  -0.03350557  0.23180202 -0.27395976\n",
      "  -0.12543423 -0.13242665 -0.19435154  0.00518361  0.18921416  0.21225278\n",
      "   0.18286687  0.2197094   0.13295867 -0.13496427  0.20964257  0.15113524\n",
      "  -0.12370932 -0.03316988  0.01799905 -0.08702948 -0.25076386  0.12662473\n",
      "  -0.20129058  0.04129827  0.22592464  0.11149556 -0.11414653 -0.07742572\n",
      "  -0.24425986  0.00444275  0.22111043 -0.26438683 -0.18610579 -0.06678291\n",
      "  -0.00391059  0.10227123  0.0631718  -0.18555486 -0.11638457  0.07512067\n",
      "  -0.2202665   0.24272434  0.15610492  0.17659435 -0.19574699  0.074554\n",
      "  -0.19284496  0.09475043 -0.11956622  0.26353607 -0.0762955  -0.23981151\n",
      "   0.24810791  0.11473113 -0.19263661  0.2091687   0.13932568 -0.22920331\n",
      "  -0.05756576  0.04570159  0.17145818 -0.24734992]\n",
      " [ 0.16571149 -0.24384665 -0.21366817 -0.13498291 -0.05637265 -0.21450473\n",
      "  -0.25251526 -0.22718222 -0.17605224 -0.06840058 -0.15506034  0.22301374\n",
      "   0.18539897  0.04429816  0.05334123 -0.21348394 -0.22142616  0.285875\n",
      "  -0.20732248  0.03557521 -0.08071858 -0.05690371 -0.2513165  -0.19750178\n",
      "   0.01895369  0.09596945 -0.13810812  0.10918554  0.0837975  -0.2654343\n",
      "  -0.07533032 -0.08708329  0.01512405 -0.25162566  0.22810724 -0.003448\n",
      "  -0.19765556 -0.25770032  0.06159615  0.23237872  0.10166949 -0.17572589\n",
      "   0.07559358  0.25386682 -0.16751966 -0.20282392  0.22155747 -0.02125261\n",
      "  -0.03381968 -0.21589558  0.02754616  0.24441685  0.25207767 -0.04356121\n",
      "  -0.0830963   0.11096844  0.13798606  0.27646002  0.03227445  0.17260629\n",
      "  -0.07712191 -0.09113483 -0.06749675 -0.11836217]\n",
      " [-0.1646556   0.16024299 -0.21530604  0.04740441  0.20374958  0.08806354\n",
      "  -0.05184503 -0.04928562  0.25098252 -0.16437611 -0.187575   -0.20841059\n",
      "   0.08766461  0.16129567  0.07076438  0.06928224 -0.13850597  0.01574939\n",
      "   0.05125474 -0.17090541  0.25979817  0.29486904  0.02346547  0.02725628\n",
      "  -0.06074244  0.26672593 -0.23140219 -0.11802805 -0.09369925 -0.18622202\n",
      "  -0.19975814 -0.17003842  0.18593843  0.04398149  0.06352639  0.15315913\n",
      "   0.20096675  0.05085078  0.20715223 -0.15857378  0.00153446 -0.06150734\n",
      "   0.05423163 -0.13550991 -0.05929063  0.20650531  0.20050052  0.27150634\n",
      "   0.21550867 -0.20106106  0.26493195 -0.19223997  0.22314818  0.07487943\n",
      "  -0.24943945 -0.15265472  0.2000769   0.06054412  0.21502672 -0.19088393\n",
      "  -0.04064066 -0.14440466  0.18883683 -0.24135998]]\n",
      "Biases: [ 0.          0.01214458 -0.01232073  0.         -0.00853172 -0.01822679\n",
      " -0.00366292  0.          0.01178725  0.         -0.02104212  0.0344753\n",
      "  0.01759255 -0.00758731 -0.01410019  0.01658501  0.01981918  0.02113711\n",
      "  0.01153754  0.         -0.01903324  0.02644905 -0.00351968  0.\n",
      " -0.01216704 -0.01063427  0.          0.01055306  0.01296904  0.\n",
      "  0.01012231  0.          0.01008887 -0.00846706  0.         -0.00547808\n",
      " -0.00919293  0.         -0.01094768  0.00377025  0.0113171  -0.01817651\n",
      " -0.01297785 -0.00061748  0.         -0.0141254  -0.02601842  0.00752462\n",
      " -0.01083296 -0.00143287  0.00077545 -0.00254623 -0.00140232  0.00212844\n",
      " -0.02025582 -0.00342895  0.00331353  0.00731559 -0.02404449 -0.02275662\n",
      " -0.02219824  0.00513669 -0.0041097   0.01236299]\n"
     ]
    },
    {
     "data": {
      "image/png": "[encoded data removed]",
      "text/plain": [
       "<Figure size 1200x400 with 2 Axes>"
      ]
     },
     "metadata": {},
     "output_type": "display_data"
    }
   ],
   "source": [
    "import matplotlib.pyplot as plt\n",
    "from tensorflow.keras.utils import plot_model\n",
    "import shap\n",
    "\n",
    "# 1. Model Summary\n",
    "predictor.summary()\n",
    "\n",
    "\n",
    "# 2. Visualize the Model\n",
    "plot_model(predictor, to_file='model_plot.png', show_shapes=True, show_layer_names=True)\n",
    "\n",
    "# 3. Extract and Inspect Weights\n",
    "weights, biases = predictor.layers[0].get_weights()\n",
    "print(\"Weights:\", weights)\n",
    "print(\"Biases:\", biases)\n",
    "\n",
    "# 4 Visualize the Training Process\n",
    "import matplotlib.pyplot as plt\n",
    "# Plot training & validation loss values\n",
    "plt.figure(figsize=(12, 4))\n",
    "\n",
    "plt.subplot(1, 2, 1)\n",
    "plt.plot(history.history['loss'])\n",
    "plt.plot(history.history['val_loss'])\n",
    "plt.title('Model loss')\n",
    "plt.xlabel('Epoch')\n",
    "plt.ylabel('Loss')\n",
    "plt.legend(['Train', 'Validation'], loc='upper left')\n",
    "\n",
    "# Plot training & validation accuracy values\n",
    "plt.subplot(1, 2, 2)\n",
    "plt.plot(history.history['accuracy'])\n",
    "plt.plot(history.history[\"val_accuracy\"])\n",
    "plt.title('Model Accuracy')\n",
    "plt.xlabel('Epoch')\n",
    "plt.ylabel('Accuracy')\n",
    "plt.legend(['Train', 'Validation'], loc='upper left')\n",
    "\n",
    "plt.show()\n"
   ]
  },
  {
   "cell_type": "markdown",
   "metadata": {},
   "source": [
    "### Loading pre-trained model"
   ]
  },
  {
   "cell_type": "markdown",
   "metadata": {},
   "source": [
    "## Make predictions"
   ]
  },
  {
   "cell_type": "code",
   "execution_count": 84,
   "metadata": {},
   "outputs": [
    {
     "name": "stdout",
     "output_type": "stream",
     "text": [
      "\u001b[1m3/3\u001b[0m \u001b[32m━━━━━━━━━━━━━━━━━━━━\u001b[0m\u001b[37m\u001b[0m \u001b[1m0s\u001b[0m 16ms/step\n",
      "Test Accuracy:  0.7\n",
      "Test Classification Report:\n",
      "               precision    recall  f1-score   support\n",
      "\n",
      "           0       0.73      0.82      0.77        56\n",
      "           1       0.63      0.50      0.56        34\n",
      "\n",
      "    accuracy                           0.70        90\n",
      "   macro avg       0.68      0.66      0.67        90\n",
      "weighted avg       0.69      0.70      0.69        90\n",
      "\n"
     ]
    }
   ],
   "source": [
    "# Evaluate on the test set\n",
    "y_test_pred = predictor.predict(x_test)\n",
    "y_test_pred_1 = pd.DataFrame(y_test)\n",
    "y_test_pred_1['Survived'] = y_test_pred\n",
    "y_test_pred_1['Survived'] = y_test_pred_1['Survived'].apply(lambda x: 1 if x >= 0.5 else 0)\n",
    "y_test_pred = y_test_pred_1\n",
    "\n",
    "test_accuracy = accuracy_score(y_test, y_test_pred)\n",
    "print(\"Test Accuracy: \", test_accuracy)\n",
    "print(\"Test Classification Report:\\n\", classification_report(y_test, y_test_pred))"
   ]
  },
  {
   "cell_type": "markdown",
   "metadata": {},
   "source": [
    "## Save model"
   ]
  },
  {
   "cell_type": "code",
   "execution_count": 85,
   "metadata": {},
   "outputs": [
    {
     "name": "stdout",
     "output_type": "stream",
     "text": [
      "\u001b[1m14/14\u001b[0m \u001b[32m━━━━━━━━━━━━━━━━━━━━\u001b[0m\u001b[37m\u001b[0m \u001b[1m0s\u001b[0m 755us/step\n"
     ]
    }
   ],
   "source": [
    "x_final_test = prepare_test_data()\n",
    "final_predictions = predictor.predict(x_final_test)\n",
    "final_predictions = pd.DataFrame(final_predictions, columns=[TARGET_FEATURE])"
   ]
  },
  {
   "cell_type": "code",
   "execution_count": 86,
   "metadata": {},
   "outputs": [],
   "source": [
    "# Save the final predictions as a CSV file\n",
    "save_predictions(final_predictions, f'predictions_neural_network')"
   ]
  }
 ],
 "metadata": {
  "kernelspec": {
   "display_name": "Python 3",
   "language": "python",
   "name": "python3"
  },
  "language_info": {
   "codemirror_mode": {
    "name": "ipython",
    "version": 3
   },
   "file_extension": ".py",
   "mimetype": "text/x-python",
   "name": "python",
   "nbconvert_exporter": "python",
   "pygments_lexer": "ipython3",
   "version": "3.12.3"
  }
 },
 "nbformat": 4,
 "nbformat_minor": 2
}
